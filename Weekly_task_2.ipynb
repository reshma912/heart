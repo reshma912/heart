{
  "cells": [
    {
      "cell_type": "markdown",
      "metadata": {
        "id": "i_p3ebVvN4NF"
      },
      "source": [
        "31. Write a Python program to calculate the area of a circle"
      ]
    },
    {
      "cell_type": "code",
      "source": [
        "r=int(input(\"Enter the radius of circle: \"))\n",
        "area=3.14*(r**2)\n",
        "print(\"area of circle:\",area)"
      ],
      "metadata": {
        "colab": {
          "base_uri": "https://localhost:8080/"
        },
        "id": "mTHMzF5hnpq6",
        "outputId": "761d1479-0285-4d65-a64b-7bd3cd146d89"
      },
      "execution_count": null,
      "outputs": [
        {
          "output_type": "stream",
          "name": "stdout",
          "text": [
            "Enter the radius of circle: 6\n",
            "area of circle: 113.04\n"
          ]
        }
      ]
    },
    {
      "cell_type": "markdown",
      "metadata": {
        "id": "gliKpChbOMcP"
      },
      "source": [
        "32. Create a program that checks if a given number is a perfect square."
      ]
    },
    {
      "cell_type": "code",
      "execution_count": null,
      "metadata": {
        "colab": {
          "base_uri": "https://localhost:8080/"
        },
        "id": "XPwD2wktOQV1",
        "outputId": "ba5f9b9b-6bd9-4f14-d9a6-addefedf04f4"
      },
      "outputs": [
        {
          "name": "stdout",
          "output_type": "stream",
          "text": [
            "Enter a number: 256\n",
            "256 is a perfect square.\n"
          ]
        }
      ],
      "source": [
        "import math\n",
        "\n",
        "def is_perfect_square(num):\n",
        "    if num < 0:\n",
        "        return False\n",
        "\n",
        "    square_root = math.isqrt(num)\n",
        "\n",
        "    return square_root * square_root == num\n",
        "\n",
        "try:\n",
        "    number = int(input(\"Enter a number: \"))\n",
        "    if is_perfect_square(number):\n",
        "        print(f\"{number} is a perfect square.\")\n",
        "    else:\n",
        "        print(f\"{number} is not a perfect square.\")\n",
        "except ValueError:\n",
        "    print(\"Invalid input. Please enter a valid integer.\")"
      ]
    },
    {
      "cell_type": "markdown",
      "metadata": {
        "id": "a1xEeYUnQyOf"
      },
      "source": [
        "33. Write a program to find the square root of a number.\n"
      ]
    },
    {
      "cell_type": "code",
      "execution_count": null,
      "metadata": {
        "colab": {
          "base_uri": "https://localhost:8080/"
        },
        "id": "ci-GFaGqQ1a-",
        "outputId": "525f854f-95c7-4ab9-b00d-763c71ca3a88"
      },
      "outputs": [
        {
          "name": "stdout",
          "output_type": "stream",
          "text": [
            "Enter the number: 25\n",
            "The square root of 25 = 5.0\n"
          ]
        }
      ],
      "source": [
        "num = int(input('Enter the number: '))\n",
        "sqrt= num**0.5\n",
        "\n",
        "print(\"The square root of\", num, \"=\", sqrt)"
      ]
    },
    {
      "cell_type": "code",
      "execution_count": null,
      "metadata": {
        "colab": {
          "base_uri": "https://localhost:8080/"
        },
        "id": "KdsXzT9fTbgc",
        "outputId": "a08f8e39-7e2c-4a0d-9d21-df7a6b078155"
      },
      "outputs": [
        {
          "name": "stdout",
          "output_type": "stream",
          "text": [
            "Enter the number: 25\n",
            " Square root of  number: 25  is :  5.0\n"
          ]
        }
      ],
      "source": [
        "# Using math module\n",
        "\n",
        "import math\n",
        "num = int(input('Enter the number: '))\n",
        "result = math.sqrt(num)\n",
        "print(\" Square root of  number:\",num, \" is : \", result)"
      ]
    },
    {
      "cell_type": "markdown",
      "metadata": {
        "id": "NDDwpatgT7sb"
      },
      "source": [
        "34. Create a program that generates a simple to-do list.\n"
      ]
    },
    {
      "cell_type": "code",
      "execution_count": null,
      "metadata": {
        "colab": {
          "base_uri": "https://localhost:8080/"
        },
        "id": "MIBc0XRyVYME",
        "outputId": "49dc2fac-4062-4868-bc91-0bb9ae4384ad"
      },
      "outputs": [
        {
          "output_type": "stream",
          "name": "stdout",
          "text": [
            "Menu:\n",
            "1. Add Task\n",
            "2. View Tasks\n",
            "3. Mark as Done\n",
            "4. Exit\n",
            "Enter your choice: 3\n",
            "No tasks to mark as done.\n",
            "Menu:\n",
            "1. Add Task\n",
            "2. View Tasks\n",
            "3. Mark as Done\n",
            "4. Exit\n",
            "Enter your choice: 2\n",
            "\n",
            "Tasks:\n",
            "Menu:\n",
            "1. Add Task\n",
            "2. View Tasks\n",
            "3. Mark as Done\n",
            "4. Exit\n",
            "Enter your choice: 4\n",
            "Exiting.\n"
          ]
        }
      ],
      "source": [
        "def display_menu():\n",
        "    print(\"Menu:\")\n",
        "    print(\"1. Add Task\")\n",
        "    print(\"2. View Tasks\")\n",
        "    print(\"3. Mark as Done\")\n",
        "    print(\"4. Exit\")\n",
        "\n",
        "\n",
        "def add_task(tasks):\n",
        "    task = input(\"Enter task description: \")\n",
        "    tasks.append(task)\n",
        "    print(\"Task added successfully!\")\n",
        "\n",
        "\n",
        "def view_tasks(tasks):\n",
        "    print(\"\\nTasks:\")\n",
        "    for i, task in enumerate(tasks, start=1):\n",
        "        print(f\"{i}. {task}\")\n",
        "\n",
        "\n",
        "def mark_task_done(tasks):\n",
        "    if not tasks:\n",
        "        print(\"No tasks to mark as done.\")\n",
        "        return\n",
        "\n",
        "\n",
        "    view_tasks(tasks)\n",
        "    index = int(input(\"Enter task index to mark as done: \")) - 1\n",
        "\n",
        "\n",
        "    if 0 <= index < len(tasks):\n",
        "        removed_task = tasks.pop(index)\n",
        "        print(f\"Task '{removed_task}' marked as done and removed.\")\n",
        "    else:\n",
        "        print(\"Invalid task index.\")\n",
        "\n",
        "\n",
        "def save_tasks(tasks):\n",
        "    with open(\"tasks.txt\", \"w\") as f:\n",
        "        for task in tasks:\n",
        "            f.write(task + '\\n')\n",
        "\n",
        "\n",
        "def load_tasks():\n",
        "    try:\n",
        "        with open(\"tasks.txt\", \"r\") as f:\n",
        "            return f.read().splitlines()\n",
        "    except FileNotFoundError:\n",
        "        return []\n",
        "\n",
        "\n",
        "def main():\n",
        "    tasks = load_tasks()\n",
        "\n",
        "\n",
        "    while True:\n",
        "        display_menu()\n",
        "\n",
        "\n",
        "        choice = input(\"Enter your choice: \")\n",
        "\n",
        "\n",
        "        if choice == '1':\n",
        "            add_task(tasks)\n",
        "        elif choice == '2':\n",
        "            view_tasks(tasks)\n",
        "        elif choice == '3':\n",
        "            mark_task_done(tasks)\n",
        "        elif choice == '4':\n",
        "            print(\"Exiting.\")\n",
        "            save_tasks(tasks)\n",
        "            break\n",
        "        else:\n",
        "            print(\"Invalid choice. Please select a valid option.\")\n",
        "\n",
        "\n",
        "if __name__ == \"__main__\":\n",
        "    main()\n"
      ]
    },
    {
      "cell_type": "markdown",
      "metadata": {
        "id": "2PQtkIbyXf38"
      },
      "source": [
        "35. Write a Python program to find the LCM (Least Common Multiple) of two numbers.\n"
      ]
    },
    {
      "cell_type": "code",
      "source": [
        "n1=int(input(\"enter the num1:\"))\n",
        "n2=int(input(\"enter the num2:\"))\n",
        "max_num=max(n1,n2)\n",
        "for i in range(max_num,(n1*n2)+1):\n",
        "  if(i%n1==0) and (i%n2==0):\n",
        "    lcm=i\n",
        "    break\n",
        "print(f'LCM of {n1} and {n2} is {lcm}')"
      ],
      "metadata": {
        "colab": {
          "base_uri": "https://localhost:8080/"
        },
        "id": "ATT7qQ9Moey3",
        "outputId": "e371999a-06a6-4792-8e07-d88b7d3c65fd"
      },
      "execution_count": null,
      "outputs": [
        {
          "output_type": "stream",
          "name": "stdout",
          "text": [
            "enter the num1:10\n",
            "enter the num2:16\n",
            "LCM of 10 and 16 is 80\n"
          ]
        }
      ]
    },
    {
      "cell_type": "markdown",
      "source": [
        "36. Create a program to check if a string contains only alphabetic characters.\n",
        "\n",
        "\n",
        "\n",
        "\n"
      ],
      "metadata": {
        "id": "14aBT_TLnBf4"
      }
    },
    {
      "cell_type": "code",
      "source": [
        "def alphab(sent):\n",
        "  return sentence.isalpha()\n",
        "sentence=input(\"Enter a string:\").replace(\" \",\"\")\n",
        "if alphab(sentence):\n",
        "  print(\"The string conatains only aplhabetic characters\")\n",
        "else:\n",
        "  print(\"The string doesn't conatains only aplhabetic characters\")"
      ],
      "metadata": {
        "id": "9Vr1mpbNpY3_",
        "colab": {
          "base_uri": "https://localhost:8080/"
        },
        "outputId": "9bffd148-8fb6-462d-cb50-233560ac10f0"
      },
      "execution_count": 9,
      "outputs": [
        {
          "output_type": "stream",
          "name": "stdout",
          "text": [
            "Enter a string:Pyth0n\n",
            "The string doesn't conatains only aplhabetic characters\n"
          ]
        }
      ]
    },
    {
      "cell_type": "markdown",
      "source": [
        "37. Write a program that calculates the power of a number (a^b).\n"
      ],
      "metadata": {
        "id": "NIQMVG9xnEa-"
      }
    },
    {
      "cell_type": "code",
      "source": [
        "a=int(input(\"Ener the 1st number:\"))\n",
        "b=int(input(\"Ener the 2nd number:\"))\n",
        "c=a**b\n",
        "print(a,\"Power\",b,\"=\",c)"
      ],
      "metadata": {
        "colab": {
          "base_uri": "https://localhost:8080/"
        },
        "id": "JuckovNfsCLt",
        "outputId": "fc52b08b-a7aa-45cc-fec4-605af7a460ba"
      },
      "execution_count": 11,
      "outputs": [
        {
          "output_type": "stream",
          "name": "stdout",
          "text": [
            "Ener the 1st number:4\n",
            "Ener the 2nd number:6\n",
            "4 Power 6 = 4096\n"
          ]
        }
      ]
    },
    {
      "cell_type": "markdown",
      "source": [
        "38. Create a program to calculate the sum of all natural numbers up to a given N.\n"
      ],
      "metadata": {
        "id": "wTJeQLFknGPl"
      }
    },
    {
      "cell_type": "code",
      "source": [
        "a=int(input(\"Ener the number:\"))\n",
        "sum=0\n",
        "for i in range(1,a+1):\n",
        "  sum=sum+i\n",
        "print(\"Sum of \",a,'natural number:',sum)"
      ],
      "metadata": {
        "colab": {
          "base_uri": "https://localhost:8080/"
        },
        "id": "4ytbdCInsaDX",
        "outputId": "ea632822-5178-4eba-db17-7d9439554239"
      },
      "execution_count": 12,
      "outputs": [
        {
          "output_type": "stream",
          "name": "stdout",
          "text": [
            "Ener the number:15\n",
            "Sum of  15 natural number: 120\n"
          ]
        }
      ]
    },
    {
      "cell_type": "markdown",
      "source": [
        "39. Write a Python program to find the factorial of a number using a loop."
      ],
      "metadata": {
        "id": "arXshmgznHRV"
      }
    },
    {
      "cell_type": "code",
      "source": [
        "n=int(input(\"Ener the number:\"))\n",
        "fact=1\n",
        "for i in range(1,n+1):\n",
        "  fact=fact*i\n",
        "print(\"Factorial of\",n,':',fact)"
      ],
      "metadata": {
        "colab": {
          "base_uri": "https://localhost:8080/"
        },
        "id": "vZUy5gersuhH",
        "outputId": "f244f66f-4c92-4c07-d2a8-5999e9d905e7"
      },
      "execution_count": 14,
      "outputs": [
        {
          "output_type": "stream",
          "name": "stdout",
          "text": [
            "Ener the number:10\n",
            "Factorial of 10 : 3628800\n"
          ]
        }
      ]
    },
    {
      "cell_type": "markdown",
      "source": [
        "40. Create a program to check if a string is a valid email address."
      ],
      "metadata": {
        "id": "B6h3Y7S7nMeI"
      }
    },
    {
      "cell_type": "code",
      "source": [
        "import re\n",
        "\n",
        "def validate_email(email):\n",
        "    if re.match(r\"[^@]+@[^@]+\\.[^@]+\", email):\n",
        "        return True\n",
        "    return False\n",
        "\n",
        "email = input(\"Enter the email address: \")\n",
        "if validate_email(email):\n",
        "    print(\"Valid email address\")\n",
        "else:\n",
        "    print(\"Invalid email address\")"
      ],
      "metadata": {
        "colab": {
          "base_uri": "https://localhost:8080/"
        },
        "id": "Ygw-aWS5tDMY",
        "outputId": "59c60c05-30b1-41af-ce66-aefb6003d8a9"
      },
      "execution_count": 16,
      "outputs": [
        {
          "output_type": "stream",
          "name": "stdout",
          "text": [
            "Enter the email address: abc123@gmail.com\n",
            "Valid email address\n"
          ]
        }
      ]
    },
    {
      "cell_type": "markdown",
      "source": [
        "41. Write a program to reverse a list in Python.\n"
      ],
      "metadata": {
        "id": "p7vVpDPqnN_f"
      }
    },
    {
      "cell_type": "code",
      "source": [
        "lst=input(\"Enter the list: \").split()\n",
        "nwlst=[]\n",
        "for i in range(len(lst)-1,-1,-1):\n",
        "  nwlst.append(lst[i])\n",
        "print(nwlst)"
      ],
      "metadata": {
        "colab": {
          "base_uri": "https://localhost:8080/"
        },
        "id": "_3MusAPjt1UX",
        "outputId": "fcadfbe9-9918-4475-db8d-ac7f24fbec8d"
      },
      "execution_count": 17,
      "outputs": [
        {
          "output_type": "stream",
          "name": "stdout",
          "text": [
            "Enter the list: 23 45 76 94 3 2\n",
            "['2', '3', '94', '76', '45', '23']\n"
          ]
        }
      ]
    },
    {
      "cell_type": "markdown",
      "source": [
        "42. Create a program to check if a given number is a palindrome."
      ],
      "metadata": {
        "id": "i4H--9lGnPWg"
      }
    },
    {
      "cell_type": "code",
      "source": [
        "n=int(input(\"Enter number:\"))\n",
        "temp=n\n",
        "rev=0\n",
        "while(n>0):\n",
        "    dig=n%10\n",
        "    rev=rev*10+dig\n",
        "    n=n//10\n",
        "if(temp==rev):\n",
        "    print(\"The number is a palindrome!\")\n",
        "else:\n",
        "    print(\"The number isn't a palindrome!\")"
      ],
      "metadata": {
        "colab": {
          "base_uri": "https://localhost:8080/"
        },
        "id": "tf6SSOrmuYoz",
        "outputId": "79695271-da58-4086-f406-8ad726aed053"
      },
      "execution_count": 20,
      "outputs": [
        {
          "output_type": "stream",
          "name": "stdout",
          "text": [
            "Enter number:3640463\n",
            "0 The number is a palindrome!\n"
          ]
        }
      ]
    },
    {
      "cell_type": "markdown",
      "source": [
        "43. Write a Python program to count the number of words in a paragraph.\n"
      ],
      "metadata": {
        "id": "zX3P_Jt_nRM5"
      }
    },
    {
      "cell_type": "code",
      "source": [
        "p=input(\"Enter the paragraph\").split()\n",
        "count=0\n",
        "for i in p:\n",
        "  count=count+1\n",
        "print(count)\n"
      ],
      "metadata": {
        "colab": {
          "base_uri": "https://localhost:8080/"
        },
        "id": "aKcR-Fy6u7Z8",
        "outputId": "8da19659-fb36-4d2a-9992-e06785b09748"
      },
      "execution_count": 22,
      "outputs": [
        {
          "output_type": "stream",
          "name": "stdout",
          "text": [
            "Enter the paragraph  This is a book\n",
            "4\n"
          ]
        }
      ]
    },
    {
      "cell_type": "markdown",
      "source": [
        "44. Create a program to find and print the Fibonacci sequence up to N terms.\n"
      ],
      "metadata": {
        "id": "HfI-tgu1nTDz"
      }
    },
    {
      "cell_type": "code",
      "source": [
        "n=int(input(\"Enter number:\"))\n",
        "f=0\n",
        "s=1\n",
        "for i in range(1,n+1):\n",
        "  print(f,end=\" \")\n",
        "  t=f+s\n",
        "  f=s\n",
        "  s=t"
      ],
      "metadata": {
        "colab": {
          "base_uri": "https://localhost:8080/"
        },
        "id": "ngcJ1JLfvkEo",
        "outputId": "0b222969-18d3-4436-d91c-00ed8a10db73"
      },
      "execution_count": 24,
      "outputs": [
        {
          "output_type": "stream",
          "name": "stdout",
          "text": [
            "Enter number:10\n",
            "0 1 1 2 3 5 8 13 21 34 "
          ]
        }
      ]
    },
    {
      "cell_type": "markdown",
      "source": [
        "45. Write a program to check if a list is sorted in ascending order.\n"
      ],
      "metadata": {
        "id": "dfiNb7tknUYT"
      }
    },
    {
      "cell_type": "code",
      "source": [
        "def is_sorted_ascending(lst):\n",
        "    for i in range(len(lst) - 1):\n",
        "        if lst[i] > lst[i + 1]:\n",
        "            return False\n",
        "    return True\n",
        "\n",
        "input_list = input(\"Enter the elements of the list : \").split()\n",
        "\n",
        "input_list = [int(x) for x in input_list]\n",
        "\n",
        "if is_sorted_ascending(input_list):\n",
        "    print(\"The list is sorted in ascending order.\")\n",
        "else:\n",
        "    print(\"The list is not sorted in ascending order.\")"
      ],
      "metadata": {
        "colab": {
          "base_uri": "https://localhost:8080/"
        },
        "id": "8-RLiol-wB0o",
        "outputId": "bab11e37-8b9c-4397-aa1e-b3ad905b3f38"
      },
      "execution_count": 50,
      "outputs": [
        {
          "output_type": "stream",
          "name": "stdout",
          "text": [
            "Enter the elements of the list : 23 45 67  8 0 2 12\n",
            "The list is not sorted in ascending order.\n"
          ]
        }
      ]
    },
    {
      "cell_type": "markdown",
      "source": [
        "46. Create a program that calculates the area of a triangle.\n"
      ],
      "metadata": {
        "id": "tqsOo-M1nVzN"
      }
    },
    {
      "cell_type": "code",
      "source": [
        "b=float(input(\"Enter the length of first side::\"))\n",
        "h=float(input(\"Enter the height :\"))\n",
        "area = (b*h)/2\n",
        "print(\"Area of Triangle is :\",area)\n"
      ],
      "metadata": {
        "colab": {
          "base_uri": "https://localhost:8080/"
        },
        "id": "pU92LVT7weds",
        "outputId": "068cdf9c-5fe8-457e-c5d7-53d2512934de"
      },
      "execution_count": 27,
      "outputs": [
        {
          "output_type": "stream",
          "name": "stdout",
          "text": [
            "Enter the length of first side::12\n",
            "Enter the height :20\n",
            "Area of Triangle is : 120.0\n"
          ]
        },
        {
          "output_type": "execute_result",
          "data": {
            "text/plain": [
              "14"
            ]
          },
          "metadata": {},
          "execution_count": 27
        }
      ]
    },
    {
      "cell_type": "markdown",
      "source": [
        "47. Write a Python program to find the GCD (Greatest Common Divisor) of two numbers.\n"
      ],
      "metadata": {
        "id": "LplT3sfonXQj"
      }
    },
    {
      "cell_type": "code",
      "source": [
        "import math\n",
        "n1=int(input(\"enter the num1:\"))\n",
        "n2=int(input(\"enter the num2:\"))\n",
        "result=math.gcd(n1,n2)\n",
        "print(f'GCD of {n1} and {n2} is {result}')"
      ],
      "metadata": {
        "colab": {
          "base_uri": "https://localhost:8080/"
        },
        "id": "szWH7w06xCrM",
        "outputId": "1d482207-dd8c-4198-8cfb-0988e11fcde6"
      },
      "execution_count": 28,
      "outputs": [
        {
          "output_type": "stream",
          "name": "stdout",
          "text": [
            "enter the num1:15\n",
            "enter the num2:45\n",
            "GCD of 15 and 45 is 15\n"
          ]
        }
      ]
    },
    {
      "cell_type": "markdown",
      "source": [
        "48. Create a program to print the ASCII value of a character.\n"
      ],
      "metadata": {
        "id": "OTlUjp94nYj-"
      }
    },
    {
      "cell_type": "code",
      "source": [
        "char=input(\"Enter the character:\")\n",
        "asc=ord(char)\n",
        "print('ACSII value of ',char,':',asc)"
      ],
      "metadata": {
        "colab": {
          "base_uri": "https://localhost:8080/"
        },
        "id": "x176etEKxwXo",
        "outputId": "6c40ad1e-f316-444d-e9dc-15c9b82a96a8"
      },
      "execution_count": 29,
      "outputs": [
        {
          "output_type": "stream",
          "name": "stdout",
          "text": [
            "Enter the character:S\n",
            "ACSII value of  S : 83\n"
          ]
        }
      ]
    },
    {
      "cell_type": "markdown",
      "source": [
        "49. Write a program to find and print all prime numbers up to N.\n"
      ],
      "metadata": {
        "id": "Kc_P6asCnZ_t"
      }
    },
    {
      "cell_type": "code",
      "source": [
        "n=int(input(\"enter the number:\"))\n",
        "m=int(input(\"enter the range:\"))\n",
        "for i in range(m,n+1):\n",
        "  if i>0:\n",
        "    print(i,end=\" \")"
      ],
      "metadata": {
        "colab": {
          "base_uri": "https://localhost:8080/"
        },
        "id": "oMvWqycWyD9K",
        "outputId": "61c9d9b9-5613-49f3-e627-c5b5ab7e8af7"
      },
      "execution_count": 30,
      "outputs": [
        {
          "output_type": "stream",
          "name": "stdout",
          "text": [
            "enter the number:10\n",
            "enter the range:-4\n",
            "1 2 3 4 5 6 7 8 9 10 "
          ]
        }
      ]
    },
    {
      "cell_type": "markdown",
      "source": [
        "50. Create a program that converts a decimal number to binary."
      ],
      "metadata": {
        "id": "GtuIjD8fzOlO"
      }
    },
    {
      "cell_type": "code",
      "source": [
        "\n",
        "def decimal_to_binary(decimal):\n",
        "    binary = \"\"\n",
        "    while decimal > 0:\n",
        "        binary = str(decimal % 2) + binary\n",
        "        decimal = decimal // 2\n",
        "    return binary\n",
        "\n",
        "if __name__ == \"__main__\":\n",
        "    decimal = int(input(\"Enter a decimal number: \"))\n",
        "\n",
        "    binary = decimal_to_binary(decimal)\n",
        "    print(\"Binary: \" + binary)"
      ],
      "metadata": {
        "colab": {
          "base_uri": "https://localhost:8080/"
        },
        "id": "izQvKVCTylkF",
        "outputId": "11d5eded-ac04-4233-d30a-ce3021f9a005"
      },
      "execution_count": 32,
      "outputs": [
        {
          "output_type": "stream",
          "name": "stdout",
          "text": [
            "Enter a decimal number: 756\n",
            "Binary: 1011110100\n"
          ]
        }
      ]
    },
    {
      "cell_type": "markdown",
      "source": [
        "51. Write a Python program to find the minimum and maximum elements in a list.\n"
      ],
      "metadata": {
        "id": "7l3gGHSUzQRx"
      }
    },
    {
      "cell_type": "code",
      "source": [
        "lst=input(\"Enter the elements: \").split()\n",
        "def smallest_():\n",
        "  min=lst[0]\n",
        "  max=lst[0]\n",
        "  for i in lst:\n",
        "    if int(min)>int(i):\n",
        "      min=i\n",
        "    if int(max)<int(i):\n",
        "      max=i\n",
        "  return min,max\n",
        "min,max=smallest_()\n",
        "print(\"Minimum num:\",min)\n",
        "print(\"Maximum num\",max)"
      ],
      "metadata": {
        "colab": {
          "base_uri": "https://localhost:8080/"
        },
        "id": "9dz1AMi10vzB",
        "outputId": "1207b567-4510-42cb-da44-079b14c2767a"
      },
      "execution_count": 34,
      "outputs": [
        {
          "output_type": "stream",
          "name": "stdout",
          "text": [
            "Enter the elements: 23 4 50 69 99 0 4\n",
            "Minimum num: 0\n",
            "Maximum num 99\n"
          ]
        }
      ]
    },
    {
      "cell_type": "markdown",
      "source": [
        "52. Create a program to count the number of uppercase and lowercase letters in a string.\n"
      ],
      "metadata": {
        "id": "UW-lK5WMndzO"
      }
    },
    {
      "cell_type": "code",
      "source": [
        "Str=input(\"enter the string: \")\n",
        "lower=0\n",
        "upper=0\n",
        "for i in Str:\n",
        "      if(i.islower()):\n",
        "            lower+=1\n",
        "      else:\n",
        "            upper+=1\n",
        "print(\"The number of lowercase characters is:\",lower)\n",
        "print(\"The number of uppercase characters is:\",upper)"
      ],
      "metadata": {
        "colab": {
          "base_uri": "https://localhost:8080/"
        },
        "id": "ulJjVAuvywvH",
        "outputId": "9a84b355-9af9-4086-a628-714eaa3528e1"
      },
      "execution_count": 31,
      "outputs": [
        {
          "output_type": "stream",
          "name": "stdout",
          "text": [
            "enter the string: Hello Python !\n",
            "The number of lowercase characters is: 9\n",
            "The number of uppercase characters is: 5\n"
          ]
        }
      ]
    },
    {
      "cell_type": "markdown",
      "source": [
        "53. Write a program to reverse the order of words in a sentence."
      ],
      "metadata": {
        "id": "IBAqVdvxneyE"
      }
    },
    {
      "cell_type": "code",
      "source": [
        "sen=input(\"Enter the sentence:\").split()\n",
        "n=sen[::-1]\n",
        "print(n)"
      ],
      "metadata": {
        "colab": {
          "base_uri": "https://localhost:8080/"
        },
        "id": "BnNZIafL2fH_",
        "outputId": "ee84b1dc-9492-47d6-b9cb-5204d30222fc"
      },
      "execution_count": 36,
      "outputs": [
        {
          "output_type": "stream",
          "name": "stdout",
          "text": [
            "Enter the sentence:reverse the order of words in a sentence\n",
            "['sentence', 'a', 'in', 'words', 'of', 'order', 'the', 'reverse']\n"
          ]
        }
      ]
    },
    {
      "cell_type": "markdown",
      "source": [
        "54. Create a program to calculate the sum of a geometric series."
      ],
      "metadata": {
        "id": "giASiA52ngGr"
      }
    },
    {
      "cell_type": "code",
      "source": [
        "def geometric_series_sum(a, r, n):\n",
        "    if r == 1:\n",
        "        return n * a\n",
        "    else:\n",
        "        return a * (1 - r**n) / (1 - r)\n",
        "\n",
        "a = float(input(\"Enter the first term (a): \"))\n",
        "r = float(input(\"Enter the common ratio (r): \"))\n",
        "n = int(input(\"Enter the number of terms (n): \"))\n",
        "\n",
        "sum_of_series = geometric_series_sum(a, r, n)\n",
        "\n",
        "print(f\"The sum of the geometric series is: {sum_of_series}\")"
      ],
      "metadata": {
        "colab": {
          "base_uri": "https://localhost:8080/"
        },
        "id": "iMdZxXe723RB",
        "outputId": "8d91b206-46ad-4c74-a01d-492f84dbc596"
      },
      "execution_count": 40,
      "outputs": [
        {
          "output_type": "stream",
          "name": "stdout",
          "text": [
            "Enter the first term (a): 5\n",
            "Enter the common ratio (r): 3\n",
            "Enter the number of terms (n): 15\n",
            "The sum of the geometric series is: 35872265.0\n"
          ]
        }
      ]
    },
    {
      "cell_type": "markdown",
      "source": [
        "55. Write a Python program to calculate the volume of a sphere."
      ],
      "metadata": {
        "id": "YmSfc4dXnh7U"
      }
    },
    {
      "cell_type": "code",
      "source": [
        "r=int(input('enter the radius'))\n",
        "v=(4/3)*3.14*(r**3)\n",
        "print(v)"
      ],
      "metadata": {
        "colab": {
          "base_uri": "https://localhost:8080/"
        },
        "id": "CFPUsVXz3lwJ",
        "outputId": "5be4b1f2-1d79-4da7-f4e1-fd309d97c22a"
      },
      "execution_count": 37,
      "outputs": [
        {
          "output_type": "stream",
          "name": "stdout",
          "text": [
            "enter the radius4\n",
            "267.94666666666666\n"
          ]
        }
      ]
    },
    {
      "cell_type": "markdown",
      "source": [
        "56. Create a program that generates a random password of a given length.\n"
      ],
      "metadata": {
        "id": "hCHfxm8FnjSV"
      }
    },
    {
      "cell_type": "code",
      "source": [
        "import random\n",
        "import string\n",
        "\n",
        "def generate_password(length):\n",
        "\n",
        "    all_characters = string.ascii_letters + string.digits + string.punctuation\n",
        "\n",
        "\n",
        "    password = ''.join(random.choice(all_characters) for _ in range(length))\n",
        "    return password\n",
        "\n",
        "password_length = int(input(\"Enter the length of the password: \"))\n",
        "\n",
        "generated_password = generate_password(password_length)\n",
        "\n",
        "print(f\"Generated password: {generated_password}\")\n"
      ],
      "metadata": {
        "colab": {
          "base_uri": "https://localhost:8080/"
        },
        "id": "cuvmA_N_4g85",
        "outputId": "c27a770a-83c4-43c9-8456-21794fdbd476"
      },
      "execution_count": 39,
      "outputs": [
        {
          "output_type": "stream",
          "name": "stdout",
          "text": [
            "Enter the length of the password: 12\n",
            "Generated password: M)fWpFEL%{Em\n"
          ]
        }
      ]
    },
    {
      "cell_type": "markdown",
      "source": [
        "57. Write a program to find and print the factors of a number.\n"
      ],
      "metadata": {
        "id": "OpJYs9SU36aW"
      }
    },
    {
      "cell_type": "code",
      "source": [
        "n=int(input(\"enter the num:\"))\n",
        "fact=[]\n",
        "for i in range(1,n+1):\n",
        "  if n%i==0:\n",
        "    fact.append(i)\n",
        "print(\"Factors\",n,'=',fact)\n"
      ],
      "metadata": {
        "colab": {
          "base_uri": "https://localhost:8080/"
        },
        "id": "dAQHAM1J5NLg",
        "outputId": "bd6bb1a4-9582-4ce8-91c1-bb72d701976f"
      },
      "execution_count": 41,
      "outputs": [
        {
          "output_type": "stream",
          "name": "stdout",
          "text": [
            "enter the num:10\n",
            "Factors 10 = [1, 2, 5, 10]\n"
          ]
        }
      ]
    },
    {
      "cell_type": "markdown",
      "source": [
        "58. Create a program to check if a list contains duplicate elements.\n"
      ],
      "metadata": {
        "id": "h8L4QtcC37d3"
      }
    },
    {
      "cell_type": "code",
      "source": [
        "def contains_duplicates(lst):\n",
        "    return len(lst) != len(set(lst))\n",
        "\n",
        "input_list = input(\"Enter the elements of the list separated by spaces: \").split()\n",
        "\n",
        "has_duplicates = contains_duplicates(input_list)\n",
        "\n",
        "if has_duplicates:\n",
        "    print(\"The list contains duplicate elements.\")\n",
        "else:\n",
        "    print(\"The list does not contain any duplicate elements.\")"
      ],
      "metadata": {
        "colab": {
          "base_uri": "https://localhost:8080/"
        },
        "id": "_FWRnKhV5jA8",
        "outputId": "37d56435-0c50-4185-80be-8378b22f6d45"
      },
      "execution_count": 42,
      "outputs": [
        {
          "output_type": "stream",
          "name": "stdout",
          "text": [
            "Enter the elements of the list separated by spaces: 21 55 46 72 55\n",
            "The list contains duplicate elements.\n"
          ]
        }
      ]
    },
    {
      "cell_type": "markdown",
      "source": [
        "59. Write a Python program to find and replace a word in a string.\n"
      ],
      "metadata": {
        "id": "2hZkX0uX38ng"
      }
    },
    {
      "cell_type": "code",
      "source": [
        "import re\n",
        "s=input(\"Enter the string:\")\n",
        "ch=input(\"Entre the word:\")\n",
        "res=re.sub(ch,'pen',s)\n",
        "print(res)"
      ],
      "metadata": {
        "colab": {
          "base_uri": "https://localhost:8080/"
        },
        "id": "FnlyZLSp56vm",
        "outputId": "27e32d14-866c-486f-af62-8ed39dfdd620"
      },
      "execution_count": 45,
      "outputs": [
        {
          "output_type": "stream",
          "name": "stdout",
          "text": [
            "Enter the string:Red Book\n",
            "Entre the word:Book\n",
            "Red pen\n"
          ]
        }
      ]
    },
    {
      "cell_type": "markdown",
      "source": [
        "60. Create a program that checks if a given string is a pangram (contains all alphabets).\n"
      ],
      "metadata": {
        "id": "p9tfLe8339t8"
      }
    },
    {
      "cell_type": "code",
      "source": [
        "alp=('abcdefghijklmnopqrstuvwxyz')\n",
        "def pana(str):\n",
        "  for i in alp:\n",
        "    if i not in n.lower():\n",
        "      print(\"Its not panagram\")\n",
        "      break\n",
        "  else:\n",
        "    print(\"Panagram\")"
      ],
      "metadata": {
        "id": "PlqeP11S3-Ot"
      },
      "execution_count": 48,
      "outputs": []
    }
  ],
  "metadata": {
    "colab": {
      "provenance": []
    },
    "kernelspec": {
      "display_name": "Python 3",
      "name": "python3"
    },
    "language_info": {
      "name": "python"
    }
  },
  "nbformat": 4,
  "nbformat_minor": 0
}